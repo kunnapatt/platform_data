{
 "cells": [
  {
   "cell_type": "code",
   "execution_count": 1,
   "metadata": {},
   "outputs": [],
   "source": [
    "from confluent_kafka import Producer\n",
    "import time"
   ]
  },
  {
   "cell_type": "code",
   "execution_count": 8,
   "metadata": {},
   "outputs": [
    {
     "name": "stdout",
     "output_type": "stream",
     "text": [
      "b'kafkatestkafkatestkafkatestkafkatestkafkatestkafkatestkafkatestkafkatestkafkatestkafkatestkafkatestk'\n",
      "100\n"
     ]
    }
   ],
   "source": [
    "\n",
    "msg_count = 1000000\n",
    "msg_size = 100\n",
    "msg_payload = ('kafkatest' * 20).encode()[:msg_size]\n",
    "print(msg_payload)\n",
    "print(len(msg_payload))\n",
    "\n",
    "bootstrap_servers = 'localhost:9092'\n",
    "\n",
    "producer_timings = {}\n",
    "consumer_timings = {}"
   ]
  },
  {
   "cell_type": "code",
   "execution_count": 9,
   "metadata": {},
   "outputs": [],
   "source": [
    "\n",
    "def calculate_thoughput(timing, n_messages=1000000, msg_size=100):\n",
    "    print(\"Processed {0} messsages in {1:.2f} seconds\".format(n_messages, timing))\n",
    "    print(\"{0:.2f} MB/s\".format((msg_size * n_messages) / timing / (1024*1024)))\n",
    "    print(\"{0:.2f} Msgs/s\".format(n_messages / timing))"
   ]
  },
  {
   "cell_type": "code",
   "execution_count": 10,
   "metadata": {},
   "outputs": [],
   "source": [
    "def producer_performance() :\n",
    "    topic = \"test2\"\n",
    "    conf = {\n",
    "        \"bootstrap.servers\": bootstrap_servers\n",
    "    }\n",
    "    producer = Producer(**conf)\n",
    "    messages_to_retry = 0\n",
    "    producer_start = time.time()\n",
    "\n",
    "    for i in range(msg_count) :\n",
    "        try :\n",
    "            producer.produce(topic, value=msg_payload)\n",
    "        except BufferError as e :\n",
    "            messages_to_retry += 1\n",
    "\n",
    "    for i in range(messages_to_retry) :\n",
    "        producer.poll(0)\n",
    "        try :\n",
    "            producer.produce(topic, value=msg_payload)\n",
    "        except BufferError as e :\n",
    "            producer.poll(0)\n",
    "            producer.produce(topic, value=msg_payload)\n",
    "\n",
    "    producer.flush()\n",
    "\n",
    "    return time.time() - producer_start\n",
    "    "
   ]
  },
  {
   "cell_type": "code",
   "execution_count": 11,
   "metadata": {},
   "outputs": [
    {
     "name": "stdout",
     "output_type": "stream",
     "text": [
      "Processed 1000000 messsages in 0.97 seconds\n",
      "98.26 MB/s\n",
      "1030369.12 Msgs/s\n"
     ]
    }
   ],
   "source": [
    "producer_timings['kafka_producer'] = producer_performance()\n",
    "calculate_thoughput(producer_timings[\"kafka_producer\"])"
   ]
  },
  {
   "cell_type": "code",
   "execution_count": null,
   "metadata": {},
   "outputs": [],
   "source": []
  }
 ],
 "metadata": {
  "kernelspec": {
   "display_name": "test",
   "language": "python",
   "name": "python3"
  },
  "language_info": {
   "codemirror_mode": {
    "name": "ipython",
    "version": 3
   },
   "file_extension": ".py",
   "mimetype": "text/x-python",
   "name": "python",
   "nbconvert_exporter": "python",
   "pygments_lexer": "ipython3",
   "version": "3.9.18"
  }
 },
 "nbformat": 4,
 "nbformat_minor": 2
}
