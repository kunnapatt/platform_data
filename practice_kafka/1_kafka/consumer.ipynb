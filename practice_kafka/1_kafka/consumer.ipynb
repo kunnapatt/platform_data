{
 "cells": [
  {
   "cell_type": "code",
   "execution_count": 11,
   "metadata": {},
   "outputs": [],
   "source": [
    "from confluent_kafka import Consumer\n",
    "import uuid\n",
    "import time"
   ]
  },
  {
   "cell_type": "code",
   "execution_count": 6,
   "metadata": {},
   "outputs": [],
   "source": [
    "bootstrap_server = \"localhost:9092\"\n",
    "msg_count = 1000000\n",
    "\n",
    "# client = KafkaClient(hosts=bootstrap_server)\n",
    "# topic = client.topic[b'test']\n",
    "# print(topic.earliest_available_offsets())\n",
    "# print(topic.latest_available_offsets())\n",
    "\n",
    "consumer_timings = {}\n",
    "\n",
    "def calculate_thoughput(timing, n_messages=1000000, msg_size=100):\n",
    "    print(\"Processed {0} messsages in {1:.2f} seconds\".format(n_messages, timing))\n",
    "    print(\"{0:.2f} MB/s\".format((msg_size * n_messages) / timing / (1024*1024)))\n",
    "    print(\"{0:.2f} Msgs/s\".format(n_messages / timing))"
   ]
  },
  {
   "cell_type": "code",
   "execution_count": 21,
   "metadata": {},
   "outputs": [],
   "source": [
    "def consumer_performance() :\n",
    "    topic = \"test\"\n",
    "    msg_consumed_count = 0\n",
    "    conf = {\n",
    "        \"bootstrap.servers\": bootstrap_server,\n",
    "        \"group.id\": uuid.uuid1(),\n",
    "        \"session.timeout.ms\": 6000,\n",
    "        \"default.topic.config\": {\n",
    "            \"auto.offset.reset\": \"earliest\"\n",
    "        }\n",
    "    }\n",
    "\n",
    "    consumer = Consumer(**conf)\n",
    "    consumer_start = time.time()\n",
    "\n",
    "    consumer.subscribe([topic])\n",
    "\n",
    "    while True :\n",
    "        msg = consumer.poll(1)\n",
    "        print(msg)\n",
    "        if msg :\n",
    "            msg_consumed_count += 1\n",
    "        if msg_consumed_count >= msg_count :\n",
    "            break\n",
    "    \n",
    "    consumer_timing = time.time() - consumer_start\n",
    "    consumer.close()\n",
    "    return consumer_timing\n",
    "\n",
    "\n",
    "            "
   ]
  },
  {
   "cell_type": "code",
   "execution_count": null,
   "metadata": {},
   "outputs": [],
   "source": [
    "_ = consumer_performance() # Warm cache\n",
    "consumer_timings['confluent_kafka_consumer'] = consumer_performance()\n",
    "calculate_thoughput(consumer_timings['confluent_kafka_consumer'])"
   ]
  },
  {
   "cell_type": "code",
   "execution_count": 41,
   "metadata": {},
   "outputs": [],
   "source": [
    "topic = \"test\"\n",
    "msg_consumed_count = 0\n",
    "conf = {\n",
    "    \"bootstrap.servers\": bootstrap_server,\n",
    "    \"group.id\": uuid.uuid1(),\n",
    "    \"session.timeout.ms\": 6000,\n",
    "    \"default.topic.config\": {\n",
    "        \"auto.offset.reset\": \"earliest\"\n",
    "    }\n",
    "}\n",
    "\n",
    "consumer = Consumer(**conf)\n",
    "consumer_start = time.time()\n",
    "\n",
    "# for c in consumer :\n",
    "#     print(c)"
   ]
  },
  {
   "cell_type": "code",
   "execution_count": 39,
   "metadata": {},
   "outputs": [],
   "source": [
    "from confluent_kafka import KafkaError, KafkaException\n",
    "import sys\n",
    "running = True\n",
    "\n",
    "def basic_consume_loop(consumer, topics):\n",
    "    try:\n",
    "        consumer.subscribe(topics)\n",
    "\n",
    "        while running:\n",
    "            msg = consumer.poll(timeout=1.0)\n",
    "            if msg is None: continue\n",
    "\n",
    "            if msg.error():\n",
    "                if msg.error().code() == KafkaError._PARTITION_EOF:\n",
    "                    # End of partition event\n",
    "                    sys.stderr.write('%% %s [%d] reached end at offset %d\\n' %\n",
    "                                     (msg.topic(), msg.partition(), msg.offset()))\n",
    "                elif msg.error():\n",
    "                    raise KafkaException(msg.error())\n",
    "            else:\n",
    "                print(msg.value())\n",
    "                # msg_process(msg)\n",
    "    finally:\n",
    "        # Close down consumer to commit final offsets.\n",
    "        consumer.close()\n",
    "\n",
    "def shutdown():\n",
    "    running = False"
   ]
  },
  {
   "cell_type": "code",
   "execution_count": null,
   "metadata": {},
   "outputs": [],
   "source": [
    "basic_consume_loop(consumer, [\"test2\"])"
   ]
  },
  {
   "cell_type": "code",
   "execution_count": null,
   "metadata": {},
   "outputs": [],
   "source": []
  }
 ],
 "metadata": {
  "kernelspec": {
   "display_name": "test",
   "language": "python",
   "name": "python3"
  },
  "language_info": {
   "codemirror_mode": {
    "name": "ipython",
    "version": 3
   },
   "file_extension": ".py",
   "mimetype": "text/x-python",
   "name": "python",
   "nbconvert_exporter": "python",
   "pygments_lexer": "ipython3",
   "version": "3.9.18"
  }
 },
 "nbformat": 4,
 "nbformat_minor": 2
}
